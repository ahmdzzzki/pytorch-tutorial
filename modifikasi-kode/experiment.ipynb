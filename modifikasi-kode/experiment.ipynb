{
 "cells": [
  {
   "cell_type": "code",
   "execution_count": 1,
   "metadata": {},
   "outputs": [],
   "source": [
    "import torch\n",
    "import torch.nn as nn\n",
    "import torchvision\n",
    "import torchvision.transforms as transforms\n",
    "import matplotlib.pyplot as plt\n",
    "from torch.utils.data import DataLoader\n",
    "import pandas as pd"
   ]
  },
  {
   "cell_type": "code",
   "execution_count": 2,
   "metadata": {},
   "outputs": [],
   "source": [
    "# Device configuration\n",
    "device = torch.device('cuda' if torch.cuda.is_available() else 'cpu')"
   ]
  },
  {
   "cell_type": "code",
   "execution_count": 3,
   "metadata": {},
   "outputs": [],
   "source": [
    "# Hyper-parameters\n",
    "input_size = 784\n",
    "hidden_size1 = 500\n",
    "hidden_size2 = 300\n",
    "num_classes = 10"
   ]
  },
  {
   "cell_type": "code",
   "execution_count": 4,
   "metadata": {},
   "outputs": [],
   "source": [
    "# Load MNIST dataset\n",
    "train_dataset = torchvision.datasets.MNIST(root='./data', train=True, transform=transforms.ToTensor(), download=True)\n",
    "test_dataset = torchvision.datasets.MNIST(root='./data', train=False, transform=transforms.ToTensor())"
   ]
  },
  {
   "cell_type": "code",
   "execution_count": 5,
   "metadata": {},
   "outputs": [],
   "source": [
    "# Define the neural network models with different activation functions\n",
    "class NeuralNetReLU(nn.Module):\n",
    "    def __init__(self, input_size, hidden_size1, hidden_size2, num_classes):\n",
    "        super(NeuralNetReLU, self).__init__()\n",
    "        self.fc1 = nn.Linear(input_size, hidden_size1)\n",
    "        self.fc2 = nn.Linear(hidden_size1, hidden_size2)\n",
    "        self.fc3 = nn.Linear(hidden_size2, num_classes)\n",
    "    \n",
    "    def forward(self, x):\n",
    "        out = torch.relu(self.fc1(x))\n",
    "        out = torch.relu(self.fc2(out))\n",
    "        out = self.fc3(out)\n",
    "        return out\n",
    "\n",
    "class NeuralNetSigmoid(nn.Module):\n",
    "    def __init__(self, input_size, hidden_size1, hidden_size2, num_classes):\n",
    "        super(NeuralNetSigmoid, self).__init__()\n",
    "        self.fc1 = nn.Linear(input_size, hidden_size1)\n",
    "        self.fc2 = nn.Linear(hidden_size1, hidden_size2)\n",
    "        self.fc3 = nn.Linear(hidden_size2, num_classes)\n",
    "    \n",
    "    def forward(self, x):\n",
    "        out = torch.sigmoid(self.fc1(x))\n",
    "        out = torch.sigmoid(self.fc2(out))\n",
    "        out = self.fc3(out)\n",
    "        return out\n",
    "\n",
    "class NeuralNetTanh(nn.Module):\n",
    "    def __init__(self, input_size, hidden_size1, hidden_size2, num_classes):\n",
    "        super(NeuralNetTanh, self).__init__()\n",
    "        self.fc1 = nn.Linear(input_size, hidden_size1)\n",
    "        self.fc2 = nn.Linear(hidden_size1, hidden_size2)\n",
    "        self.fc3 = nn.Linear(hidden_size2, num_classes)\n",
    "    \n",
    "    def forward(self, x):\n",
    "        out = torch.tanh(self.fc1(x))\n",
    "        out = torch.tanh(self.fc2(out))\n",
    "        out = self.fc3(out)\n",
    "        return out"
   ]
  },
  {
   "cell_type": "code",
   "execution_count": 6,
   "metadata": {},
   "outputs": [],
   "source": [
    "# Function to train the model\n",
    "def train_model(model, train_loader, num_epochs, criterion, optimizer):\n",
    "    loss_values = []\n",
    "    for epoch in range(num_epochs):\n",
    "        for images, labels in train_loader:  \n",
    "            images = images.reshape(-1, 28*28).to(device)\n",
    "            labels = labels.to(device)\n",
    "\n",
    "            # Forward pass\n",
    "            outputs = model(images)\n",
    "            loss = criterion(outputs, labels)\n",
    "\n",
    "            # Backward and optimize\n",
    "            optimizer.zero_grad()\n",
    "            loss.backward()\n",
    "            optimizer.step()\n",
    "\n",
    "            loss_values.append(loss.item())\n",
    "    return loss_values\n",
    "\n",
    "# Function to test the model\n",
    "def test_model(model, test_loader):\n",
    "    with torch.no_grad():\n",
    "        correct = 0\n",
    "        total = 0\n",
    "        for images, labels in test_loader:\n",
    "            images = images.reshape(-1, 28*28).to(device)\n",
    "            labels = labels.to(device)\n",
    "            outputs = model(images)\n",
    "            _, predicted = torch.max(outputs.data, 1)\n",
    "            total += labels.size(0)\n",
    "            correct += (predicted == labels).sum().item()\n",
    "    accuracy = 100 * correct / total\n",
    "    return accuracy"
   ]
  },
  {
   "cell_type": "code",
   "execution_count": 7,
   "metadata": {},
   "outputs": [],
   "source": [
    "# Function to perform experiments with different hyperparameters\n",
    "def run_experiment(learning_rates, batch_sizes, epochs_list):\n",
    "    results = []\n",
    "    for lr in learning_rates:\n",
    "        for bs in batch_sizes:\n",
    "            for epochs in epochs_list:\n",
    "                # Load data with the current batch size\n",
    "                train_loader = DataLoader(train_dataset, batch_size=bs, shuffle=True)\n",
    "                test_loader = DataLoader(test_dataset, batch_size=bs, shuffle=False)\n",
    "\n",
    "                # Initialize model, loss function, and optimizer\n",
    "                model = NeuralNetReLU(input_size, hidden_size1, hidden_size2, num_classes).to(device)\n",
    "                criterion = nn.CrossEntropyLoss()\n",
    "                optimizer = torch.optim.Adam(model.parameters(), lr=lr)\n",
    "\n",
    "                # Train and test the model\n",
    "                train_model(model, train_loader, epochs, criterion, optimizer)\n",
    "                accuracy = test_model(model, test_loader)\n",
    "\n",
    "                # Record the results\n",
    "                results.append((lr, bs, epochs, accuracy))\n",
    "    return results"
   ]
  },
  {
   "cell_type": "code",
   "execution_count": 8,
   "metadata": {},
   "outputs": [],
   "source": [
    "# Define hyperparameters for experimentation\n",
    "learning_rates = [0.0001, 0.001, 0.01]\n",
    "batch_sizes = [32, 64, 128]\n",
    "epochs_list = [5, 10, 20]"
   ]
  },
  {
   "cell_type": "code",
   "execution_count": 9,
   "metadata": {},
   "outputs": [],
   "source": [
    "# Run the experiment\n",
    "experiment_results = run_experiment(learning_rates, batch_sizes, epochs_list)"
   ]
  },
  {
   "cell_type": "code",
   "execution_count": 10,
   "metadata": {},
   "outputs": [
    {
     "name": "stdout",
     "output_type": "stream",
     "text": [
      "    Learning Rate  Batch Size  Epochs  Accuracy\n",
      "0          0.0001          32       5     97.22\n",
      "1          0.0001          32      10     98.09\n",
      "2          0.0001          32      20     98.12\n",
      "3          0.0001          64       5     96.37\n",
      "4          0.0001          64      10     97.66\n",
      "5          0.0001          64      20     98.17\n",
      "6          0.0001         128       5     95.68\n",
      "7          0.0001         128      10     97.11\n",
      "8          0.0001         128      20     98.00\n",
      "9          0.0010          32       5     97.51\n",
      "10         0.0010          32      10     98.00\n",
      "11         0.0010          32      20     97.94\n",
      "12         0.0010          64       5     97.74\n",
      "13         0.0010          64      10     97.83\n",
      "14         0.0010          64      20     98.17\n",
      "15         0.0010         128       5     97.62\n",
      "16         0.0010         128      10     97.85\n",
      "17         0.0010         128      20     97.88\n",
      "18         0.0100          32       5     95.76\n",
      "19         0.0100          32      10     96.75\n",
      "20         0.0100          32      20     96.70\n",
      "21         0.0100          64       5     96.05\n",
      "22         0.0100          64      10     97.26\n",
      "23         0.0100          64      20     96.97\n",
      "24         0.0100         128       5     96.48\n",
      "25         0.0100         128      10     97.27\n",
      "26         0.0100         128      20     97.58\n"
     ]
    }
   ],
   "source": [
    "# Convert results to a dataframe for better visualization\n",
    "results_df = pd.DataFrame(experiment_results, columns=['Learning Rate', 'Batch Size', 'Epochs', 'Accuracy'])\n",
    "print(results_df)"
   ]
  },
  {
   "cell_type": "code",
   "execution_count": 11,
   "metadata": {},
   "outputs": [
    {
     "data": {
      "image/png": "[encoded data removed]",
      "text/plain": [
       "<Figure size 1200x600 with 1 Axes>"
      ]
     },
     "metadata": {},
     "output_type": "display_data"
    }
   ],
   "source": [
    "# Visualize the results\n",
    "results_df.pivot_table(values='Accuracy', index='Batch Size', columns='Learning Rate', aggfunc='max').plot(kind='bar', figsize=(12, 6))\n",
    "plt.title('Accuracy vs. Batch Size for Different Learning Rates')\n",
    "plt.xlabel('Batch Size')\n",
    "plt.ylabel('Accuracy (%)')\n",
    "plt.show()"
   ]
  }
 ],
 "metadata": {
  "kernelspec": {
   "display_name": "Python 3",
   "language": "python",
   "name": "python3"
  },
  "language_info": {
   "codemirror_mode": {
    "name": "ipython",
    "version": 3
   },
   "file_extension": ".py",
   "mimetype": "text/x-python",
   "name": "python",
   "nbconvert_exporter": "python",
   "pygments_lexer": "ipython3",
   "version": "3.11.4"
  }
 },
 "nbformat": 4,
 "nbformat_minor": 2
}
